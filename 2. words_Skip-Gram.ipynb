{
 "cells": [
  {
   "cell_type": "code",
   "execution_count": 1,
   "id": "7d4b1f15",
   "metadata": {},
   "outputs": [],
   "source": [
    "from torch import nn\n",
    "import torch\n",
    "from torch.nn.functional import cross_entropy,softmax\n",
    "from utils import Dataset,process_w2v_data\n",
    "from visual import show_w2v_word_embedding"
   ]
  },
  {
   "cell_type": "code",
   "execution_count": 2,
   "id": "e97efd52",
   "metadata": {},
   "outputs": [],
   "source": [
    "corpus = [\n",
    "    # numbers\n",
    "    \"5 2 4 8 6 2 3 6 4\",\n",
    "    \"4 8 5 6 9 5 5 6\",\n",
    "    \"1 1 5 2 3 3 8\",\n",
    "    \"3 6 9 6 8 7 4 6 3\",\n",
    "    \"8 9 9 6 1 4 3 4\",\n",
    "    \"1 0 2 0 2 1 3 3 3 3 3\",\n",
    "    \"9 3 3 0 1 4 7 8\",\n",
    "    \"9 9 8 5 6 7 1 2 3 0 1 0\",\n",
    "\n",
    "    # alphabets, expecting that 9 is close to letters\n",
    "    \"a t g q e h 9 u f\",\n",
    "    \"e q y u o i p s\",\n",
    "    \"q o 9 p l k j o k k o p\",\n",
    "    \"h g y i u t t a e q\",\n",
    "    \"i k d q r e 9 e a d\",\n",
    "    \"o p d g 9 s a f g a\",\n",
    "    \"i u y g h k l a s w\",\n",
    "    \"o l u y a o g f s\",\n",
    "    \"o p i u y g d a s j d l\",\n",
    "    \"u k i l o 9 l j s\",\n",
    "    \"y g i s h k j l f r f\",\n",
    "    \"i o h n 9 9 d 9 f a 9\",\n",
    "]"
   ]
  },
  {
   "cell_type": "code",
   "execution_count": 12,
   "id": "3cb775b4",
   "metadata": {},
   "outputs": [],
   "source": [
    "class SkipGram(nn.Module):\n",
    "\n",
    "    def __init__(self,v_dim,emb_dim):\n",
    "        super().__init__()\n",
    "        self.v_dim = v_dim\n",
    "        self.embeddings = nn.Embedding(v_dim,emb_dim)\n",
    "        self.embeddings.weight.data.normal_(0,0.1)\n",
    "        self.hidden_out = nn.Linear(emb_dim,v_dim)\n",
    "\n",
    "        self.opt = torch.optim.Adam(self.parameters(),lr=0.01)\n",
    "    \n",
    "    def forward(self,x,training=None, mask=None):\n",
    "        # x.shape = [n,]\n",
    "        o = self.embeddings(x)  # [n, emb_dim]\n",
    "        return o\n",
    "    \n",
    "    def loss(self,x,y,training=None):\n",
    "        embedded = self(x,training)\n",
    "        pred= self.hidden_out(embedded)\n",
    "        return cross_entropy(pred,y)\n",
    "    \n",
    "    def step(self,x,y):\n",
    "        self.opt.zero_grad()\n",
    "        loss = self.loss(x,y,True)\n",
    "        loss.backward()\n",
    "        self.opt.step()\n",
    "        return loss.detach().cpu().numpy()"
   ]
  },
  {
   "cell_type": "code",
   "execution_count": 13,
   "id": "ee58eab5",
   "metadata": {},
   "outputs": [],
   "source": [
    "def train(model,data):\n",
    "    if torch.cuda.is_available():\n",
    "        print(\"GPU train avaliable\")\n",
    "        device =torch.device(\"cuda\")\n",
    "        model = model.cuda()\n",
    "    else:\n",
    "        device = torch.device(\"cpu\")\n",
    "        model = model.cpu()\n",
    "    for t in range(8000):\n",
    "        bx,by = data.sample(16)\n",
    "        \n",
    "        bx,by = torch.from_numpy(bx).to(device), torch.from_numpy(by).to(device)\n",
    "\n",
    "        loss = model.step(bx.long(),by.long())\n",
    "        if t%200 == 0:\n",
    "            print(f\"step: {t}  |  loss: {loss}\")"
   ]
  },
  {
   "cell_type": "code",
   "execution_count": 14,
   "id": "a9d64d8f",
   "metadata": {},
   "outputs": [],
   "source": [
    "import matplotlib.pyplot as plt\n",
    "import os\n",
    "os.environ[\"KMP_DUPLICATE_LIB_OK\"]=\"TRUE\"\n",
    "\n",
    "#def show_w2v_word_embedding(model, data, path):\n",
    "def show_w2v_word_embedding(model, data):\n",
    "    word_emb = model.cpu().embeddings.weight.data.numpy()\n",
    "    for i in range(data.num_word):\n",
    "        c = \"blue\"\n",
    "        try:\n",
    "            int(data.i2v[i])\n",
    "        except:\n",
    "            c = \"red\"\n",
    "\n",
    "        plt.text(word_emb[i, 0], word_emb[i, 1], s=data.i2v[i], color=c, weight=\"bold\")\n",
    "\n",
    "    plt.xlim(word_emb[:, 0].min() - 0.5, word_emb[:, 0].max() + 0.5)\n",
    "    plt.ylim(word_emb[:, 1].min() - 0.5, word_emb[:, 1].max() + 0.5)\n",
    "    plt.xticks(())\n",
    "    plt.yticks(())\n",
    "    plt.xlabel(\"embedding dim1\")\n",
    "    plt.ylabel(\"embedding dim2\")\n",
    "#     plt.savefig(path, dpi=300, format=\"png\")\n",
    "    plt.show()"
   ]
  },
  {
   "cell_type": "code",
   "execution_count": 15,
   "id": "bbff20aa",
   "metadata": {},
   "outputs": [
    {
     "name": "stdout",
     "output_type": "stream",
     "text": [
      "All vocabularies are sorted by frequency in decresing oreder\n",
      "5 expample pairs:\n",
      " [[16 14]\n",
      " [16  9]\n",
      " [14 16]\n",
      " [14  9]\n",
      " [14 12]]\n",
      "GPU train avaliable\n",
      "step: 0  |  loss: 3.1692371368408203\n",
      "step: 200  |  loss: 3.1414122581481934\n",
      "step: 400  |  loss: 2.8629777431488037\n",
      "step: 600  |  loss: 2.7646987438201904\n",
      "step: 800  |  loss: 2.584993839263916\n",
      "step: 1000  |  loss: 2.4769999980926514\n",
      "step: 1200  |  loss: 2.489748001098633\n",
      "step: 1400  |  loss: 2.536696195602417\n",
      "step: 1600  |  loss: 2.5084307193756104\n",
      "step: 1800  |  loss: 2.6421804428100586\n",
      "step: 2000  |  loss: 2.180467128753662\n",
      "step: 2200  |  loss: 2.7988944053649902\n",
      "step: 2400  |  loss: 2.746054172515869\n",
      "step: 2600  |  loss: 2.4672622680664062\n",
      "step: 2800  |  loss: 2.641099452972412\n",
      "step: 3000  |  loss: 2.5494205951690674\n",
      "step: 3200  |  loss: 2.7757585048675537\n",
      "step: 3400  |  loss: 2.1899681091308594\n",
      "step: 3600  |  loss: 2.3737568855285645\n",
      "step: 3800  |  loss: 2.2809228897094727\n",
      "step: 4000  |  loss: 2.676994800567627\n",
      "step: 4200  |  loss: 2.103292465209961\n",
      "step: 4400  |  loss: 2.610013008117676\n",
      "step: 4600  |  loss: 2.2246594429016113\n",
      "step: 4800  |  loss: 2.7263596057891846\n",
      "step: 5000  |  loss: 2.6259713172912598\n",
      "step: 5200  |  loss: 2.484722137451172\n",
      "step: 5400  |  loss: 2.531418561935425\n",
      "step: 5600  |  loss: 2.3974876403808594\n",
      "step: 5800  |  loss: 2.5252468585968018\n",
      "step: 6000  |  loss: 2.890627384185791\n",
      "step: 6200  |  loss: 2.9029436111450195\n",
      "step: 6400  |  loss: 2.660860300064087\n",
      "step: 6600  |  loss: 2.6993751525878906\n",
      "step: 6800  |  loss: 2.5814878940582275\n",
      "step: 7000  |  loss: 2.412958860397339\n",
      "step: 7200  |  loss: 2.3302767276763916\n",
      "step: 7400  |  loss: 2.522444486618042\n",
      "step: 7600  |  loss: 2.2093863487243652\n",
      "step: 7800  |  loss: 2.7143983840942383\n"
     ]
    },
    {
     "data": {
      "image/png": "[encoded data removed]",
      "text/plain": [
       "<Figure size 432x288 with 1 Axes>"
      ]
     },
     "metadata": {},
     "output_type": "display_data"
    }
   ],
   "source": [
    "if __name__ == \"__main__\":\n",
    "    d = process_w2v_data(corpus,skip_window=2, method=\"skip_gram\")\n",
    "    m = SkipGram(d.num_word, 2)\n",
    "    train(m,d)\n",
    "    #show_w2v_word_embedding(m,d,\"./visual/results/cbow.png\")\n",
    "    show_w2v_word_embedding(m,d)"
   ]
  }
 ],
 "metadata": {
  "kernelspec": {
   "display_name": "Python [conda env:All]",
   "language": "python",
   "name": "conda-env-All-py"
  },
  "language_info": {
   "codemirror_mode": {
    "name": "ipython",
    "version": 3
   },
   "file_extension": ".py",
   "mimetype": "text/x-python",
   "name": "python",
   "nbconvert_exporter": "python",
   "pygments_lexer": "ipython3",
   "version": "3.9.7"
  }
 },
 "nbformat": 4,
 "nbformat_minor": 5
}
