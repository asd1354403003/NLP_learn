{
 "cells": [
  {
   "cell_type": "code",
   "execution_count": 1,
   "id": "4af7175b",
   "metadata": {},
   "outputs": [],
   "source": [
    "from torch import nn,optim\n",
    "import torch\n",
    "from torch.nn.functional import cross_entropy,softmax\n",
    "import utils\n",
    "from torch.utils.data import DataLoader\n",
    "import os"
   ]
  },
  {
   "cell_type": "code",
   "execution_count": null,
   "id": "9364a173",
   "metadata": {},
   "outputs": [],
   "source": []
  }
 ],
 "metadata": {
  "kernelspec": {
   "display_name": "Python [conda env:All]",
   "language": "python",
   "name": "conda-env-All-py"
  },
  "language_info": {
   "codemirror_mode": {
    "name": "ipython",
    "version": 3
   },
   "file_extension": ".py",
   "mimetype": "text/x-python",
   "name": "python",
   "nbconvert_exporter": "python",
   "pygments_lexer": "ipython3",
   "version": "3.9.7"
  }
 },
 "nbformat": 4,
 "nbformat_minor": 5
}
