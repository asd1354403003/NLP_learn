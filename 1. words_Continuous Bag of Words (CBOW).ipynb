{
 "cells": [
  {
   "cell_type": "code",
   "execution_count": 1,
   "id": "e41632c8",
   "metadata": {},
   "outputs": [],
   "source": [
    "from torch import nn\n",
    "import torch\n",
    "from torch.nn.functional import cross_entropy,softmax\n",
    "from utils import Dataset,process_w2v_data\n",
    "from visual import show_w2v_word_embedding"
   ]
  },
  {
   "cell_type": "code",
   "execution_count": 2,
   "id": "f4d41305",
   "metadata": {},
   "outputs": [],
   "source": [
    "corpus = [\n",
    "    # numbers\n",
    "    \"5 2 4 8 6 2 3 6 4\",\n",
    "    \"4 8 5 6 9 5 5 6\",\n",
    "    \"1 1 5 2 3 3 8\",\n",
    "    \"3 6 9 6 8 7 4 6 3\",\n",
    "    \"8 9 9 6 1 4 3 4\",\n",
    "    \"1 0 2 0 2 1 3 3 3 3 3\",\n",
    "    \"9 3 3 0 1 4 7 8\",\n",
    "    \"9 9 8 5 6 7 1 2 3 0 1 0\",\n",
    "\n",
    "    # alphabets, expecting that 9 is close to letters\n",
    "    \"a t g q e h 9 u f\",\n",
    "    \"e q y u o i p s\",\n",
    "    \"q o 9 p l k j o k k o p\",\n",
    "    \"h g y i u t t a e q\",\n",
    "    \"i k d q r e 9 e a d\",\n",
    "    \"o p d g 9 s a f g a\",\n",
    "    \"i u y g h k l a s w\",\n",
    "    \"o l u y a o g f s\",\n",
    "    \"o p i u y g d a s j d l\",\n",
    "    \"u k i l o 9 l j s\",\n",
    "    \"y g i s h k j l f r f\",\n",
    "    \"i o h n 9 9 d 9 f a 9\",\n",
    "]"
   ]
  },
  {
   "cell_type": "code",
   "execution_count": 43,
   "id": "f4f26c11",
   "metadata": {},
   "outputs": [],
   "source": [
    "class CBOW(nn.Module):\n",
    "    def __init__(self,v_dim,emb_dim):\n",
    "        super().__init__()\n",
    "        self.v_dim = v_dim\n",
    "        self.embeddings = nn.Embedding(v_dim,emb_dim)\n",
    "        self.embeddings.weight.data.normal_(0,0.1)\n",
    "        self.hidden_out = nn.Linear(emb_dim,v_dim)\n",
    "        self.opt = torch.optim.SGD(self.parameters(),momentum=0.9,lr=0.005)\n",
    "    \n",
    "    def forward(self,x,training=None, mask=None):\n",
    "        # x.shape = [n,skip_window*2]\n",
    "        o = self.embeddings(x)  # [n, skip_window*2, emb_dim]\n",
    "        o = torch.mean(o,dim=1) # [n, emb_dim]\n",
    "        return o\n",
    "    \n",
    "    def loss(self, x, y, training=None):\n",
    "        \n",
    "        embedded = self(x,training)\n",
    "        pred= self.hidden_out(embedded)\n",
    "        return cross_entropy(pred,y)\n",
    "    \n",
    "    def step(self,x,y):\n",
    "        self.opt.zero_grad()\n",
    "        loss = self.loss(x,y,True)\n",
    "        loss.backward()\n",
    "        self.opt.step()\n",
    "        return loss.detach().cpu().numpy()\n"
   ]
  },
  {
   "cell_type": "code",
   "execution_count": 44,
   "id": "6a242df5",
   "metadata": {},
   "outputs": [],
   "source": [
    "def train(model,data):\n",
    "    if torch.cuda.is_available():\n",
    "        print(\"GPU train avaliable\")\n",
    "        device =torch.device(\"cuda\")\n",
    "        model = model.cuda()\n",
    "    else:\n",
    "        device = torch.device(\"cpu\")\n",
    "        model = model.cpu()\n",
    "    for t in range(8000):\n",
    "        bx,by = data.sample(16)\n",
    "        \n",
    "        bx,by = torch.from_numpy(bx).to(device), torch.from_numpy(by).to(device)\n",
    "\n",
    "        loss = model.step(bx.long(),by.long())\n",
    "        if t%200 == 0:\n",
    "            print(f\"step: {t}  |  loss: {loss}\")"
   ]
  },
  {
   "cell_type": "code",
   "execution_count": 45,
   "id": "2034e793",
   "metadata": {},
   "outputs": [],
   "source": [
    "import matplotlib.pyplot as plt\n",
    "import os\n",
    "os.environ[\"KMP_DUPLICATE_LIB_OK\"]=\"TRUE\"\n",
    "\n",
    "#def show_w2v_word_embedding(model, data, path):\n",
    "def show_w2v_word_embedding(model, data):\n",
    "    word_emb = model.cpu().embeddings.weight.data.numpy()\n",
    "    for i in range(data.num_word):\n",
    "        c = \"blue\"\n",
    "        try:\n",
    "            int(data.i2v[i])\n",
    "        except:\n",
    "            c = \"red\"\n",
    "\n",
    "        plt.text(word_emb[i, 0], word_emb[i, 1], s=data.i2v[i], color=c, weight=\"bold\")\n",
    "\n",
    "    plt.xlim(word_emb[:, 0].min() - 0.5, word_emb[:, 0].max() + 0.5)\n",
    "    plt.ylim(word_emb[:, 1].min() - 0.5, word_emb[:, 1].max() + 0.5)\n",
    "    plt.xticks(())\n",
    "    plt.yticks(())\n",
    "    plt.xlabel(\"embedding dim1\")\n",
    "    plt.ylabel(\"embedding dim2\")\n",
    "#     plt.savefig(path, dpi=300, format=\"png\")\n",
    "    plt.show()"
   ]
  },
  {
   "cell_type": "code",
   "execution_count": 48,
   "id": "4336b713",
   "metadata": {},
   "outputs": [
    {
     "name": "stdout",
     "output_type": "stream",
     "text": [
      "All vocabularies are sorted by frequency in decresing oreder\n",
      "5 expample pairs:\n",
      " [[16 14 12  3  9]\n",
      " [14  9  3 14 12]\n",
      " [ 9 12 14  1  3]\n",
      " [12  3  1  3 14]\n",
      " [ 3 14  3  9  1]]\n",
      "GPU train avaliable\n",
      "step: 0  |  loss: 3.589052677154541\n",
      "step: 200  |  loss: 3.4259700775146484\n",
      "step: 400  |  loss: 3.327181100845337\n",
      "step: 600  |  loss: 3.2707433700561523\n",
      "step: 800  |  loss: 3.29791522026062\n",
      "step: 1000  |  loss: 3.2000932693481445\n",
      "step: 1200  |  loss: 2.87380313873291\n",
      "step: 1400  |  loss: 3.30110764503479\n",
      "step: 1600  |  loss: 2.9542222023010254\n",
      "step: 1800  |  loss: 3.103936195373535\n",
      "step: 2000  |  loss: 2.8536555767059326\n",
      "step: 2200  |  loss: 2.8883185386657715\n",
      "step: 2400  |  loss: 2.4740588665008545\n",
      "step: 2600  |  loss: 2.5857887268066406\n",
      "step: 2800  |  loss: 2.2590107917785645\n",
      "step: 3000  |  loss: 2.549872398376465\n",
      "step: 3200  |  loss: 2.3749451637268066\n",
      "step: 3400  |  loss: 2.3706369400024414\n",
      "step: 3600  |  loss: 2.239962339401245\n",
      "step: 3800  |  loss: 2.455749988555908\n",
      "step: 4000  |  loss: 2.316723108291626\n",
      "step: 4200  |  loss: 2.6977343559265137\n",
      "step: 4400  |  loss: 2.4989166259765625\n",
      "step: 4600  |  loss: 2.2901344299316406\n",
      "step: 4800  |  loss: 2.345355272293091\n",
      "step: 5000  |  loss: 2.3379151821136475\n",
      "step: 5200  |  loss: 2.271240711212158\n",
      "step: 5400  |  loss: 2.139791250228882\n",
      "step: 5600  |  loss: 2.4058752059936523\n",
      "step: 5800  |  loss: 2.4671525955200195\n",
      "step: 6000  |  loss: 1.935316562652588\n",
      "step: 6200  |  loss: 2.3614251613616943\n",
      "step: 6400  |  loss: 2.167602300643921\n",
      "step: 6600  |  loss: 2.224246025085449\n",
      "step: 6800  |  loss: 2.0342278480529785\n",
      "step: 7000  |  loss: 2.2158215045928955\n",
      "step: 7200  |  loss: 2.1129813194274902\n",
      "step: 7400  |  loss: 1.9456841945648193\n",
      "step: 7600  |  loss: 1.911496877670288\n",
      "step: 7800  |  loss: 1.8589383363723755\n"
     ]
    },
    {
     "data": {
      "image/png": "[encoded data removed]",
      "text/plain": [
       "<Figure size 432x288 with 1 Axes>"
      ]
     },
     "metadata": {},
     "output_type": "display_data"
    }
   ],
   "source": [
    "if __name__ == \"__main__\":\n",
    "    d = process_w2v_data(corpus,skip_window=2, method=\"cbow\")\n",
    "    m = CBOW(d.num_word, 2)\n",
    "    train(m,d)\n",
    "    #show_w2v_word_embedding(m,d,\"./visual/results/cbow.png\")\n",
    "    show_w2v_word_embedding(m,d)"
   ]
  },
  {
   "cell_type": "code",
   "execution_count": 49,
   "id": "5f3ff227",
   "metadata": {},
   "outputs": [
    {
     "data": {
      "text/plain": [
       "torch.utils.data.dataset.Dataset"
      ]
     },
     "execution_count": 49,
     "metadata": {},
     "output_type": "execute_result"
    }
   ],
   "source": [
    "from torch.utils.data import Dataset as tDataset\n",
    "tDataset"
   ]
  },
  {
   "cell_type": "code",
   "execution_count": 55,
   "id": "0b3bf3c6",
   "metadata": {},
   "outputs": [
    {
     "data": {
      "text/plain": [
       "(array([[17,  7,  8, 20],\n",
       "        [10, 11,  2, 11],\n",
       "        [15, 22, 19,  0],\n",
       "        [14,  1,  5, 23],\n",
       "        [ 6, 13,  7, 20],\n",
       "        [ 5, 14, 23,  5],\n",
       "        [11, 15, 27, 19],\n",
       "        [12, 25,  3,  1],\n",
       "        [11, 15, 27, 19],\n",
       "        [ 5, 23, 23, 14],\n",
       "        [ 5, 14, 23,  5],\n",
       "        [19, 20, 13, 18],\n",
       "        [ 4,  8, 15, 10],\n",
       "        [ 4,  2, 18,  8],\n",
       "        [17,  7,  8, 20],\n",
       "        [13, 17, 15,  4],\n",
       "        [13,  2, 21,  8],\n",
       "        [13, 17, 20, 11],\n",
       "        [17,  4,  7, 18],\n",
       "        [19, 22, 13,  2],\n",
       "        [16,  3,  5, 14],\n",
       "        [29,  0, 15,  0],\n",
       "        [16,  3, 16, 16],\n",
       "        [26, 26, 19, 22],\n",
       "        [ 6, 13,  7, 15],\n",
       "        [14, 23,  5,  1],\n",
       "        [ 1,  1,  5,  9],\n",
       "        [27, 19, 19,  4],\n",
       "        [21, 10, 24,  2],\n",
       "        [17,  7,  8, 20]]),\n",
       " array([ 6, 24, 27, 23, 17,  1, 22,  9, 22, 14,  1,  0, 24,  7,  6,  7,  6,\n",
       "         7,  2, 17, 25,  0,  0,  4, 17, 14, 23,  0, 11,  6]))"
      ]
     },
     "execution_count": 55,
     "metadata": {},
     "output_type": "execute_result"
    }
   ],
   "source": [
    "d.sample(30)"
   ]
  },
  {
   "cell_type": "code",
   "execution_count": null,
   "id": "f1897673",
   "metadata": {},
   "outputs": [],
   "source": []
  }
 ],
 "metadata": {
  "kernelspec": {
   "display_name": "Python [conda env:All]",
   "language": "python",
   "name": "conda-env-All-py"
  },
  "language_info": {
   "codemirror_mode": {
    "name": "ipython",
    "version": 3
   },
   "file_extension": ".py",
   "mimetype": "text/x-python",
   "name": "python",
   "nbconvert_exporter": "python",
   "pygments_lexer": "ipython3",
   "version": "3.9.7"
  }
 },
 "nbformat": 4,
 "nbformat_minor": 5
}
